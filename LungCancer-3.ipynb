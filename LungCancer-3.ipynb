{
 "cells": [
  {
   "cell_type": "code",
   "execution_count": 1,
   "id": "f6fec588",
   "metadata": {},
   "outputs": [
    {
     "name": "stderr",
     "output_type": "stream",
     "text": [
      "/Users/maithilimahadik/anaconda3/lib/python3.11/site-packages/pandas/core/arrays/masked.py:60: UserWarning: Pandas requires version '1.3.6' or newer of 'bottleneck' (version '1.3.5' currently installed).\n",
      "  from pandas.core import (\n"
     ]
    },
    {
     "name": "stdout",
     "output_type": "stream",
     "text": [
      "Found 1097 images belonging to 6 classes.\n"
     ]
    }
   ],
   "source": [
    "from tensorflow.keras.preprocessing.image import ImageDataGenerator\n",
    "import os\n",
    "import numpy as np\n",
    "import cv2 as cv\n",
    "import os\n",
    "import matplotlib.pyplot as plt\n",
    "\n",
    "import tensorflow.keras as keras\n",
    "import tensorflow as tf\n",
    "\n",
    "from tensorflow.keras.preprocessing import image\n",
    "from tensorflow.keras.preprocessing.image import ImageDataGenerator, load_img\n",
    "\n",
    "from tensorflow.keras import layers\n",
    "from tensorflow.keras.models import Sequential, Model\n",
    "from tensorflow.keras.applications import ResNet50\n",
    "from tensorflow.keras.applications.resnet50 import preprocess_input\n",
    "\n",
    "def preprocess_data(input_folder, output_folder, target_size=(64, 64), batch_size=32, augmentation_factor=5):\n",
    "    if not os.path.exists(output_folder):\n",
    "        os.makedirs(output_folder)\n",
    "\n",
    "    datagen = ImageDataGenerator(\n",
    "        rescale=1./255,\n",
    "        rotation_range=15,\n",
    "        width_shift_range=0.1,\n",
    "        height_shift_range=0.1,\n",
    "        shear_range=0.1,\n",
    "        zoom_range=0.1,\n",
    "        horizontal_flip=True,\n",
    "        fill_mode='nearest'\n",
    "    )\n",
    "    image_generator = datagen.flow_from_directory(\n",
    "        input_folder,\n",
    "        target_size=target_size,\n",
    "        batch_size=batch_size,\n",
    "        class_mode=None,\n",
    "        shuffle=False,\n",
    "        save_to_dir=output_folder,\n",
    "        save_prefix='augmented_',\n",
    "        save_format='png'\n",
    "    )\n",
    "    for _ in range(augmentation_factor):\n",
    "        image_generator.next()\n",
    "\n",
    "input_folder = \"/Users/maithilimahadik/Downloads/The IQ-OTHNCCD lung cancer dataset\"\n",
    "output_folder = \"/Users/maithilimahadik/Desktop/preprocessed_data\"\n",
    "preprocess_data(input_folder, output_folder)\n"
   ]
  },
  {
   "cell_type": "code",
   "execution_count": 2,
   "id": "4b1e5ce6",
   "metadata": {},
   "outputs": [],
   "source": [
    "datagen = ImageDataGenerator()"
   ]
  },
  {
   "cell_type": "code",
   "execution_count": 3,
   "id": "a8dd2eec",
   "metadata": {},
   "outputs": [],
   "source": [
    "class_names = ['Normal','Malignant','Bengin']"
   ]
  },
  {
   "cell_type": "code",
   "execution_count": 4,
   "id": "4d0b445a",
   "metadata": {},
   "outputs": [
    {
     "name": "stdout",
     "output_type": "stream",
     "text": [
      "Found 148 images belonging to 3 classes.\n"
     ]
    }
   ],
   "source": [
    "train_generator = datagen.flow_from_directory( \n",
    "    directory=\"/Users/maithilimahadik/Downloads/Data-2/train\", \n",
    "    classes = class_names,\n",
    "    target_size=(224,224),  \n",
    "    batch_size=32,  \n",
    ")"
   ]
  },
  {
   "cell_type": "code",
   "execution_count": 5,
   "id": "0fc6a6f1",
   "metadata": {},
   "outputs": [
    {
     "name": "stdout",
     "output_type": "stream",
     "text": [
      "Found 13 images belonging to 3 classes.\n"
     ]
    }
   ],
   "source": [
    "valid_generator = datagen.flow_from_directory( \n",
    "    directory=\"/Users/maithilimahadik/Downloads/Data-2/valid\", \n",
    "    classes = class_names,\n",
    "    target_size=(224, 224), \n",
    "    batch_size=32, \n",
    "    class_mode=\"binary\", \n",
    ")"
   ]
  },
  {
   "cell_type": "code",
   "execution_count": 6,
   "id": "6e064e19",
   "metadata": {},
   "outputs": [
    {
     "name": "stdout",
     "output_type": "stream",
     "text": [
      "Found 54 images belonging to 3 classes.\n"
     ]
    }
   ],
   "source": [
    "test_generator = datagen.flow_from_directory( \n",
    "    directory=\"/Users/maithilimahadik/Downloads/Data-2/test\", \n",
    "    classes = class_names,\n",
    "    target_size=(224, 224), \n",
    "    batch_size=32, \n",
    "    class_mode=\"binary\", \n",
    ")"
   ]
  },
  {
   "cell_type": "code",
   "execution_count": 7,
   "id": "bda6ccc2",
   "metadata": {},
   "outputs": [],
   "source": [
    "resnet_50 = ResNet50(include_top=False, weights='imagenet', input_shape=(224,224,3))\n",
    "for layer in resnet_50.layers:\n",
    "    layer.trainable = False"
   ]
  },
  {
   "cell_type": "code",
   "execution_count": 8,
   "id": "7467126b",
   "metadata": {},
   "outputs": [],
   "source": [
    "x = resnet_50.output\n",
    "x = layers.GlobalAveragePooling2D()(x)\n",
    "x = layers.Dense(512, activation='relu')(x) \n",
    "x = layers.Dropout(0.5)(x)\n",
    "x = layers.Dense(256, activation='relu')(x) \n",
    "x = layers.Dropout(0.5)(x)\n",
    "x = layers.Dense(128, activation='relu')(x) \n",
    "x = layers.Dropout(0.5)(x)\n",
    "x = layers.Dense(64, activation='relu')(x) \n",
    "x = layers.Dropout(0.5)(x)\n",
    "predictions = layers.Dense(5, activation='softmax')(x)\n",
    "model = Model(inputs = resnet_50.input, outputs = predictions)"
   ]
  },
  {
   "cell_type": "code",
   "execution_count": 9,
   "id": "4716297c",
   "metadata": {},
   "outputs": [],
   "source": [
    "def trainModel(model, epochs, optimizer):\n",
    "    batch_size = 32\n",
    "    model.compile(optimizer=optimizer, loss=\"sparse_categorical_crossentropy\", metrics=[\"accuracy\"])\n",
    "    return model.fit(train_generator, validation_data=valid_generator, epochs=epochs, batch_size=batch_size)"
   ]
  },
  {
   "cell_type": "code",
   "execution_count": 10,
   "id": "7f15f2a3",
   "metadata": {},
   "outputs": [
    {
     "name": "stdout",
     "output_type": "stream",
     "text": [
      "Epoch 1/10\n"
     ]
    },
    {
     "ename": "InvalidArgumentError",
     "evalue": "Graph execution error:\n\nDetected at node sparse_categorical_crossentropy/SparseSoftmaxCrossEntropyWithLogits/SparseSoftmaxCrossEntropyWithLogits defined at (most recent call last):\n  File \"<frozen runpy>\", line 198, in _run_module_as_main\n\n  File \"<frozen runpy>\", line 88, in _run_code\n\n  File \"/Users/maithilimahadik/anaconda3/lib/python3.11/site-packages/ipykernel_launcher.py\", line 17, in <module>\n\n  File \"/Users/maithilimahadik/anaconda3/lib/python3.11/site-packages/traitlets/config/application.py\", line 992, in launch_instance\n\n  File \"/Users/maithilimahadik/anaconda3/lib/python3.11/site-packages/ipykernel/kernelapp.py\", line 736, in start\n\n  File \"/Users/maithilimahadik/anaconda3/lib/python3.11/site-packages/tornado/platform/asyncio.py\", line 195, in start\n\n  File \"/Users/maithilimahadik/anaconda3/lib/python3.11/asyncio/base_events.py\", line 607, in run_forever\n\n  File \"/Users/maithilimahadik/anaconda3/lib/python3.11/asyncio/base_events.py\", line 1922, in _run_once\n\n  File \"/Users/maithilimahadik/anaconda3/lib/python3.11/asyncio/events.py\", line 80, in _run\n\n  File \"/Users/maithilimahadik/anaconda3/lib/python3.11/site-packages/ipykernel/kernelbase.py\", line 516, in dispatch_queue\n\n  File \"/Users/maithilimahadik/anaconda3/lib/python3.11/site-packages/ipykernel/kernelbase.py\", line 505, in process_one\n\n  File \"/Users/maithilimahadik/anaconda3/lib/python3.11/site-packages/ipykernel/kernelbase.py\", line 412, in dispatch_shell\n\n  File \"/Users/maithilimahadik/anaconda3/lib/python3.11/site-packages/ipykernel/kernelbase.py\", line 740, in execute_request\n\n  File \"/Users/maithilimahadik/anaconda3/lib/python3.11/site-packages/ipykernel/ipkernel.py\", line 422, in do_execute\n\n  File \"/Users/maithilimahadik/anaconda3/lib/python3.11/site-packages/ipykernel/zmqshell.py\", line 546, in run_cell\n\n  File \"/Users/maithilimahadik/anaconda3/lib/python3.11/site-packages/IPython/core/interactiveshell.py\", line 3024, in run_cell\n\n  File \"/Users/maithilimahadik/anaconda3/lib/python3.11/site-packages/IPython/core/interactiveshell.py\", line 3079, in _run_cell\n\n  File \"/Users/maithilimahadik/anaconda3/lib/python3.11/site-packages/IPython/core/async_helpers.py\", line 129, in _pseudo_sync_runner\n\n  File \"/Users/maithilimahadik/anaconda3/lib/python3.11/site-packages/IPython/core/interactiveshell.py\", line 3284, in run_cell_async\n\n  File \"/Users/maithilimahadik/anaconda3/lib/python3.11/site-packages/IPython/core/interactiveshell.py\", line 3466, in run_ast_nodes\n\n  File \"/Users/maithilimahadik/anaconda3/lib/python3.11/site-packages/IPython/core/interactiveshell.py\", line 3526, in run_code\n\n  File \"/var/folders/jb/tlmpnrqn4g76btg6p2zh6p8c0000gn/T/ipykernel_17784/403433898.py\", line 2, in <module>\n\n  File \"/var/folders/jb/tlmpnrqn4g76btg6p2zh6p8c0000gn/T/ipykernel_17784/1563365056.py\", line 4, in trainModel\n\n  File \"/Users/maithilimahadik/anaconda3/lib/python3.11/site-packages/keras/src/utils/traceback_utils.py\", line 65, in error_handler\n\n  File \"/Users/maithilimahadik/anaconda3/lib/python3.11/site-packages/keras/src/engine/training.py\", line 1807, in fit\n\n  File \"/Users/maithilimahadik/anaconda3/lib/python3.11/site-packages/keras/src/engine/training.py\", line 1401, in train_function\n\n  File \"/Users/maithilimahadik/anaconda3/lib/python3.11/site-packages/keras/src/engine/training.py\", line 1384, in step_function\n\n  File \"/Users/maithilimahadik/anaconda3/lib/python3.11/site-packages/keras/src/engine/training.py\", line 1373, in run_step\n\n  File \"/Users/maithilimahadik/anaconda3/lib/python3.11/site-packages/keras/src/engine/training.py\", line 1151, in train_step\n\n  File \"/Users/maithilimahadik/anaconda3/lib/python3.11/site-packages/keras/src/engine/training.py\", line 1209, in compute_loss\n\n  File \"/Users/maithilimahadik/anaconda3/lib/python3.11/site-packages/keras/src/engine/compile_utils.py\", line 277, in __call__\n\n  File \"/Users/maithilimahadik/anaconda3/lib/python3.11/site-packages/keras/src/losses.py\", line 143, in __call__\n\n  File \"/Users/maithilimahadik/anaconda3/lib/python3.11/site-packages/keras/src/losses.py\", line 270, in call\n\n  File \"/Users/maithilimahadik/anaconda3/lib/python3.11/site-packages/keras/src/losses.py\", line 2454, in sparse_categorical_crossentropy\n\n  File \"/Users/maithilimahadik/anaconda3/lib/python3.11/site-packages/keras/src/backend.py\", line 5775, in sparse_categorical_crossentropy\n\nlogits and labels must have the same first dimension, got logits shape [32,5] and labels shape [96]\n\t [[{{node sparse_categorical_crossentropy/SparseSoftmaxCrossEntropyWithLogits/SparseSoftmaxCrossEntropyWithLogits}}]] [Op:__inference_train_function_9332]",
     "output_type": "error",
     "traceback": [
      "\u001b[0;31m---------------------------------------------------------------------------\u001b[0m",
      "\u001b[0;31mInvalidArgumentError\u001b[0m                      Traceback (most recent call last)",
      "Cell \u001b[0;32mIn[10], line 2\u001b[0m\n\u001b[1;32m      1\u001b[0m \u001b[38;5;66;03m# launch the training\u001b[39;00m\n\u001b[0;32m----> 2\u001b[0m model_history \u001b[38;5;241m=\u001b[39m trainModel(model \u001b[38;5;241m=\u001b[39m model, epochs \u001b[38;5;241m=\u001b[39m \u001b[38;5;241m10\u001b[39m,optimizer\u001b[38;5;241m=\u001b[39m\u001b[38;5;124m\"\u001b[39m\u001b[38;5;124mAdam\u001b[39m\u001b[38;5;124m\"\u001b[39m)\n",
      "Cell \u001b[0;32mIn[9], line 4\u001b[0m, in \u001b[0;36mtrainModel\u001b[0;34m(model, epochs, optimizer)\u001b[0m\n\u001b[1;32m      2\u001b[0m batch_size \u001b[38;5;241m=\u001b[39m \u001b[38;5;241m32\u001b[39m\n\u001b[1;32m      3\u001b[0m model\u001b[38;5;241m.\u001b[39mcompile(optimizer\u001b[38;5;241m=\u001b[39moptimizer, loss\u001b[38;5;241m=\u001b[39m\u001b[38;5;124m\"\u001b[39m\u001b[38;5;124msparse_categorical_crossentropy\u001b[39m\u001b[38;5;124m\"\u001b[39m, metrics\u001b[38;5;241m=\u001b[39m[\u001b[38;5;124m\"\u001b[39m\u001b[38;5;124maccuracy\u001b[39m\u001b[38;5;124m\"\u001b[39m])\n\u001b[0;32m----> 4\u001b[0m \u001b[38;5;28;01mreturn\u001b[39;00m model\u001b[38;5;241m.\u001b[39mfit(train_generator, validation_data\u001b[38;5;241m=\u001b[39mvalid_generator, epochs\u001b[38;5;241m=\u001b[39mepochs, batch_size\u001b[38;5;241m=\u001b[39mbatch_size)\n",
      "File \u001b[0;32m~/anaconda3/lib/python3.11/site-packages/keras/src/utils/traceback_utils.py:70\u001b[0m, in \u001b[0;36mfilter_traceback.<locals>.error_handler\u001b[0;34m(*args, **kwargs)\u001b[0m\n\u001b[1;32m     67\u001b[0m     filtered_tb \u001b[38;5;241m=\u001b[39m _process_traceback_frames(e\u001b[38;5;241m.\u001b[39m__traceback__)\n\u001b[1;32m     68\u001b[0m     \u001b[38;5;66;03m# To get the full stack trace, call:\u001b[39;00m\n\u001b[1;32m     69\u001b[0m     \u001b[38;5;66;03m# `tf.debugging.disable_traceback_filtering()`\u001b[39;00m\n\u001b[0;32m---> 70\u001b[0m     \u001b[38;5;28;01mraise\u001b[39;00m e\u001b[38;5;241m.\u001b[39mwith_traceback(filtered_tb) \u001b[38;5;28;01mfrom\u001b[39;00m \u001b[38;5;28;01mNone\u001b[39;00m\n\u001b[1;32m     71\u001b[0m \u001b[38;5;28;01mfinally\u001b[39;00m:\n\u001b[1;32m     72\u001b[0m     \u001b[38;5;28;01mdel\u001b[39;00m filtered_tb\n",
      "File \u001b[0;32m~/anaconda3/lib/python3.11/site-packages/tensorflow/python/eager/execute.py:53\u001b[0m, in \u001b[0;36mquick_execute\u001b[0;34m(op_name, num_outputs, inputs, attrs, ctx, name)\u001b[0m\n\u001b[1;32m     51\u001b[0m \u001b[38;5;28;01mtry\u001b[39;00m:\n\u001b[1;32m     52\u001b[0m   ctx\u001b[38;5;241m.\u001b[39mensure_initialized()\n\u001b[0;32m---> 53\u001b[0m   tensors \u001b[38;5;241m=\u001b[39m pywrap_tfe\u001b[38;5;241m.\u001b[39mTFE_Py_Execute(ctx\u001b[38;5;241m.\u001b[39m_handle, device_name, op_name,\n\u001b[1;32m     54\u001b[0m                                       inputs, attrs, num_outputs)\n\u001b[1;32m     55\u001b[0m \u001b[38;5;28;01mexcept\u001b[39;00m core\u001b[38;5;241m.\u001b[39m_NotOkStatusException \u001b[38;5;28;01mas\u001b[39;00m e:\n\u001b[1;32m     56\u001b[0m   \u001b[38;5;28;01mif\u001b[39;00m name \u001b[38;5;129;01mis\u001b[39;00m \u001b[38;5;129;01mnot\u001b[39;00m \u001b[38;5;28;01mNone\u001b[39;00m:\n",
      "\u001b[0;31mInvalidArgumentError\u001b[0m: Graph execution error:\n\nDetected at node sparse_categorical_crossentropy/SparseSoftmaxCrossEntropyWithLogits/SparseSoftmaxCrossEntropyWithLogits defined at (most recent call last):\n  File \"<frozen runpy>\", line 198, in _run_module_as_main\n\n  File \"<frozen runpy>\", line 88, in _run_code\n\n  File \"/Users/maithilimahadik/anaconda3/lib/python3.11/site-packages/ipykernel_launcher.py\", line 17, in <module>\n\n  File \"/Users/maithilimahadik/anaconda3/lib/python3.11/site-packages/traitlets/config/application.py\", line 992, in launch_instance\n\n  File \"/Users/maithilimahadik/anaconda3/lib/python3.11/site-packages/ipykernel/kernelapp.py\", line 736, in start\n\n  File \"/Users/maithilimahadik/anaconda3/lib/python3.11/site-packages/tornado/platform/asyncio.py\", line 195, in start\n\n  File \"/Users/maithilimahadik/anaconda3/lib/python3.11/asyncio/base_events.py\", line 607, in run_forever\n\n  File \"/Users/maithilimahadik/anaconda3/lib/python3.11/asyncio/base_events.py\", line 1922, in _run_once\n\n  File \"/Users/maithilimahadik/anaconda3/lib/python3.11/asyncio/events.py\", line 80, in _run\n\n  File \"/Users/maithilimahadik/anaconda3/lib/python3.11/site-packages/ipykernel/kernelbase.py\", line 516, in dispatch_queue\n\n  File \"/Users/maithilimahadik/anaconda3/lib/python3.11/site-packages/ipykernel/kernelbase.py\", line 505, in process_one\n\n  File \"/Users/maithilimahadik/anaconda3/lib/python3.11/site-packages/ipykernel/kernelbase.py\", line 412, in dispatch_shell\n\n  File \"/Users/maithilimahadik/anaconda3/lib/python3.11/site-packages/ipykernel/kernelbase.py\", line 740, in execute_request\n\n  File \"/Users/maithilimahadik/anaconda3/lib/python3.11/site-packages/ipykernel/ipkernel.py\", line 422, in do_execute\n\n  File \"/Users/maithilimahadik/anaconda3/lib/python3.11/site-packages/ipykernel/zmqshell.py\", line 546, in run_cell\n\n  File \"/Users/maithilimahadik/anaconda3/lib/python3.11/site-packages/IPython/core/interactiveshell.py\", line 3024, in run_cell\n\n  File \"/Users/maithilimahadik/anaconda3/lib/python3.11/site-packages/IPython/core/interactiveshell.py\", line 3079, in _run_cell\n\n  File \"/Users/maithilimahadik/anaconda3/lib/python3.11/site-packages/IPython/core/async_helpers.py\", line 129, in _pseudo_sync_runner\n\n  File \"/Users/maithilimahadik/anaconda3/lib/python3.11/site-packages/IPython/core/interactiveshell.py\", line 3284, in run_cell_async\n\n  File \"/Users/maithilimahadik/anaconda3/lib/python3.11/site-packages/IPython/core/interactiveshell.py\", line 3466, in run_ast_nodes\n\n  File \"/Users/maithilimahadik/anaconda3/lib/python3.11/site-packages/IPython/core/interactiveshell.py\", line 3526, in run_code\n\n  File \"/var/folders/jb/tlmpnrqn4g76btg6p2zh6p8c0000gn/T/ipykernel_17784/403433898.py\", line 2, in <module>\n\n  File \"/var/folders/jb/tlmpnrqn4g76btg6p2zh6p8c0000gn/T/ipykernel_17784/1563365056.py\", line 4, in trainModel\n\n  File \"/Users/maithilimahadik/anaconda3/lib/python3.11/site-packages/keras/src/utils/traceback_utils.py\", line 65, in error_handler\n\n  File \"/Users/maithilimahadik/anaconda3/lib/python3.11/site-packages/keras/src/engine/training.py\", line 1807, in fit\n\n  File \"/Users/maithilimahadik/anaconda3/lib/python3.11/site-packages/keras/src/engine/training.py\", line 1401, in train_function\n\n  File \"/Users/maithilimahadik/anaconda3/lib/python3.11/site-packages/keras/src/engine/training.py\", line 1384, in step_function\n\n  File \"/Users/maithilimahadik/anaconda3/lib/python3.11/site-packages/keras/src/engine/training.py\", line 1373, in run_step\n\n  File \"/Users/maithilimahadik/anaconda3/lib/python3.11/site-packages/keras/src/engine/training.py\", line 1151, in train_step\n\n  File \"/Users/maithilimahadik/anaconda3/lib/python3.11/site-packages/keras/src/engine/training.py\", line 1209, in compute_loss\n\n  File \"/Users/maithilimahadik/anaconda3/lib/python3.11/site-packages/keras/src/engine/compile_utils.py\", line 277, in __call__\n\n  File \"/Users/maithilimahadik/anaconda3/lib/python3.11/site-packages/keras/src/losses.py\", line 143, in __call__\n\n  File \"/Users/maithilimahadik/anaconda3/lib/python3.11/site-packages/keras/src/losses.py\", line 270, in call\n\n  File \"/Users/maithilimahadik/anaconda3/lib/python3.11/site-packages/keras/src/losses.py\", line 2454, in sparse_categorical_crossentropy\n\n  File \"/Users/maithilimahadik/anaconda3/lib/python3.11/site-packages/keras/src/backend.py\", line 5775, in sparse_categorical_crossentropy\n\nlogits and labels must have the same first dimension, got logits shape [32,5] and labels shape [96]\n\t [[{{node sparse_categorical_crossentropy/SparseSoftmaxCrossEntropyWithLogits/SparseSoftmaxCrossEntropyWithLogits}}]] [Op:__inference_train_function_9332]"
     ]
    }
   ],
   "source": [
    "# launch the training\n",
    "model_history = trainModel(model = model, epochs = 10,optimizer=\"Adam\")"
   ]
  },
  {
   "cell_type": "code",
   "execution_count": null,
   "id": "34a16d19",
   "metadata": {},
   "outputs": [],
   "source": [
    "loss_train_curve = model_history.history[\"loss\"]\n",
    "loss_val_curve = model_history.history[\"val_loss\"]\n",
    "plt.plot(loss_train_curve, label = \"Train\")\n",
    "plt.plot(loss_val_curve, label = \"Validation\")\n",
    "plt.legend(loc = 'upper right')\n",
    "plt.title(\"Loss\")\n",
    "plt.show()\n"
   ]
  },
  {
   "cell_type": "code",
   "execution_count": 11,
   "id": "b8569bc1",
   "metadata": {},
   "outputs": [
    {
     "name": "stdout",
     "output_type": "stream",
     "text": [
      "2/2 [==============================] - 4s 1s/step - loss: 0.9642 - accuracy: 1.0000\n",
      "The test loss is:  0.9641600847244263\n",
      "The best accuracy is:  100.0\n"
     ]
    }
   ],
   "source": [
    "test_loss, test_acc = model.evaluate(test_generator)\n",
    "print(\"The test loss is: \", test_loss)\n",
    "print(\"The best accuracy is: \", test_acc*100)"
   ]
  },
  {
   "cell_type": "code",
   "execution_count": 12,
   "id": "4c4ef44a",
   "metadata": {},
   "outputs": [
    {
     "data": {
      "image/png": "[encoded data removed]",
      "text/plain": [
       "<PIL.Image.Image image mode=RGB size=224x224>"
      ]
     },
     "execution_count": 12,
     "metadata": {},
     "output_type": "execute_result"
    }
   ],
   "source": [
    "img = tf.keras.preprocessing.image.load_img('/Users/maithilimahadik/Downloads/Data-2/train/large.cell.carcinoma_left.hilum_T2_N2_M0_IIIa/l6.png', target_size=(224, 224))\n",
    "img_array = tf.keras.preprocessing.image.img_to_array(img)\n",
    "img_array = np.array([img_array]) \n",
    "img"
   ]
  },
  {
   "cell_type": "code",
   "execution_count": 13,
   "id": "4bb1f939",
   "metadata": {},
   "outputs": [
    {
     "name": "stdout",
     "output_type": "stream",
     "text": [
      "1/1 [==============================] - 1s 706ms/step\n",
      "[[0.44148728 0.20424262 0.15417053 0.09319935 0.10690021]]\n"
     ]
    }
   ],
   "source": [
    "predictions = model.predict(img_array)\n",
    "print(predictions)"
   ]
  },
  {
   "cell_type": "code",
   "execution_count": 14,
   "id": "17b3bbf4",
   "metadata": {},
   "outputs": [
    {
     "name": "stdout",
     "output_type": "stream",
     "text": [
      "[0]\n"
     ]
    }
   ],
   "source": [
    "class_id = np.argmax(predictions, axis = 1)\n",
    "print(class_id)"
   ]
  },
  {
   "cell_type": "code",
   "execution_count": 15,
   "id": "ddf7691d",
   "metadata": {},
   "outputs": [
    {
     "data": {
      "text/plain": [
       "'Normal'"
      ]
     },
     "execution_count": 15,
     "metadata": {},
     "output_type": "execute_result"
    }
   ],
   "source": [
    "class_names[class_id.item()]"
   ]
  },
  {
   "cell_type": "code",
   "execution_count": null,
   "id": "df7c00b7",
   "metadata": {},
   "outputs": [],
   "source": []
  }
 ],
 "metadata": {
  "kernelspec": {
   "display_name": "Python 3 (ipykernel)",
   "language": "python",
   "name": "python3"
  },
  "language_info": {
   "codemirror_mode": {
    "name": "ipython",
    "version": 3
   },
   "file_extension": ".py",
   "mimetype": "text/x-python",
   "name": "python",
   "nbconvert_exporter": "python",
   "pygments_lexer": "ipython3",
   "version": "3.11.5"
  }
 },
 "nbformat": 4,
 "nbformat_minor": 5
}
